{
 "cells": [
  {
   "cell_type": "code",
   "execution_count": null,
   "id": "e9525638",
   "metadata": {},
   "outputs": [],
   "source": [
    "############## PLEASE RUN THIS CELL FIRST! ###################\n",
    "\n",
    "# import everything and define a test runner function\n",
    "from importlib import reload\n",
    "from helper import run\n",
    "import block, tx"
   ]
  },
  {
   "cell_type": "markdown",
   "id": "23707bbb",
   "metadata": {},
   "source": [
    "### Exercise 1\n",
    "\n",
    "\n",
    "\n",
    "\n",
    "#### Make [this test](/edit/session6/tx.py) pass: `tx.py:TxTest:test_is_coinbase`"
   ]
  },
  {
   "cell_type": "code",
   "execution_count": null,
   "id": "73b3da99",
   "metadata": {},
   "outputs": [],
   "source": [
    "# Exercise 1\n",
    "\n",
    "reload(tx)\n",
    "run(tx.TxTest('test_is_coinbase'))"
   ]
  },
  {
   "cell_type": "markdown",
   "id": "f0bb124d",
   "metadata": {},
   "source": [
    "### Exercise 2\n",
    "Parse the Genesis Block Coinbase Transaction and print out the scriptSig's third item\n",
    "\n",
    "```\n",
    "01000000010000000000000000000000000000000000000000000000000000000000000000ffffffff4d04ffff001d0104455468652054696d65732030332f4a616e2f32303039204368616e63656c6c6f72206f6e206272696e6b206f66207365636f6e64206261696c6f757420666f722062616e6b73ffffffff0100f2052a01000000434104678afdb0fe5548271967f1a67130b7105cd6a828e03909a67962e0ea1f61deb649f6bc3f4cef38c4f35504e51ec112de5c384df7ba0b8d578a4c702b6bf11d5fac00000000\n",
    "```\n"
   ]
  },
  {
   "cell_type": "code",
   "execution_count": null,
   "id": "b41204f2",
   "metadata": {},
   "outputs": [],
   "source": [
    "# Exercise 2\n",
    "\n",
    "from io import BytesIO\n",
    "from tx import Tx\n",
    "hex_tx = '01000000010000000000000000000000000000000000000000000000000000000000000000ffffffff4d04ffff001d0104455468652054696d65732030332f4a616e2f32303039204368616e63656c6c6f72206f6e206272696e6b206f66207365636f6e64206261696c6f757420666f722062616e6b73ffffffff0100f2052a01000000434104678afdb0fe5548271967f1a67130b7105cd6a828e03909a67962e0ea1f61deb649f6bc3f4cef38c4f35504e51ec112de5c384df7ba0b8d578a4c702b6bf11d5fac00000000'\n",
    "# create stream with BytesIO and bytes.fromhex\n",
    "\n",
    "# parse the coinbase transaction\n",
    "\n",
    "# print the first input's script_sig's third command\n"
   ]
  },
  {
   "cell_type": "markdown",
   "id": "b43f8214",
   "metadata": {},
   "source": [
    "### Exercise 3\n",
    "\n",
    "\n",
    "\n",
    "\n",
    "#### Make [this test](/edit/session6/tx.py) pass: `tx.py:TxTest:test_coinbase_height`"
   ]
  },
  {
   "cell_type": "code",
   "execution_count": null,
   "id": "f29ca15f",
   "metadata": {},
   "outputs": [],
   "source": [
    "# Exercise 3\n",
    "\n",
    "reload(tx)\n",
    "run(tx.TxTest('test_coinbase_height'))"
   ]
  },
  {
   "cell_type": "markdown",
   "id": "4a8a43ba",
   "metadata": {},
   "source": [
    "### Exercise 4\n",
    "Find the output address corresponding to this ScriptPubKey\n",
    "```\n",
    "1976a914338c84849423992471bffb1a54a8d9b1d69dc28a88ac\n",
    "```\n",
    "\n",
    "Remember the structure of pay-to-pubkey-hash (p2pkh) which has `OP_DUP OP_HASH160 <hash> OP_EQUALVERIFY OP_CHECKSIG`.\n",
    "\n",
    "You need to grab the hash160 and turn that into an address.\n"
   ]
  },
  {
   "cell_type": "code",
   "execution_count": null,
   "id": "0fade740",
   "metadata": {},
   "outputs": [],
   "source": [
    "# Exercise 4\n",
    "\n",
    "from io import BytesIO\n",
    "from script import Script\n",
    "hex_script_pubkey = '1976a914338c84849423992471bffb1a54a8d9b1d69dc28a88ac'\n",
    "# BytesIO(bytes.fromhex) to get the stream\n",
    "\n",
    "# parse with Script\n",
    "\n",
    "# get the address using address() on the script_pubkey\n"
   ]
  },
  {
   "cell_type": "markdown",
   "id": "06721da1",
   "metadata": {},
   "source": [
    "### Exercise 5\n",
    "What is the hash256 of this block? Notice anything?\n",
    "```\n",
    "020000208ec39428b17323fa0ddec8e887b4a7c53b8c0a0a220cfd0000000000000000005b0750fce0a889502d40508d39576821155e9c9e3f5c3157f961db38fd8b25be1e77a759e93c0118a4ffd71d\n",
    "```\n"
   ]
  },
  {
   "cell_type": "code",
   "execution_count": null,
   "id": "98e380e3",
   "metadata": {},
   "outputs": [],
   "source": [
    "# Exercise 5\n",
    "\n",
    "from helper import hash256\n",
    "hex_block = '020000208ec39428b17323fa0ddec8e887b4a7c53b8c0a0a220cfd0000000000000000005b0750fce0a889502d40508d39576821155e9c9e3f5c3157f961db38fd8b25be1e77a759e93c0118a4ffd71d'\n",
    "# bytes.fromhex to get the binary\n",
    "\n",
    "# hash256 the result\n",
    "\n",
    "# hex() to see what it looks like\n"
   ]
  },
  {
   "cell_type": "markdown",
   "id": "cae3b51c",
   "metadata": {},
   "source": [
    "### Exercise 6\n",
    "\n",
    "\n",
    "\n",
    "\n",
    "#### Make [this test](/edit/session6/block.py) pass: `block.py:BlockTest:test_parse`"
   ]
  },
  {
   "cell_type": "code",
   "execution_count": null,
   "id": "1c8d34d2",
   "metadata": {},
   "outputs": [],
   "source": [
    "# Exercise 6\n",
    "\n",
    "reload(block)\n",
    "run(block.BlockTest('test_parse'))"
   ]
  },
  {
   "cell_type": "markdown",
   "id": "60a8c6bf",
   "metadata": {},
   "source": [
    "### Exercise 7\n",
    "\n",
    "\n",
    "\n",
    "\n",
    "#### Make [this test](/edit/session6/block.py) pass: `block.py:BlockTest:test_serialize`"
   ]
  },
  {
   "cell_type": "code",
   "execution_count": null,
   "id": "82398765",
   "metadata": {},
   "outputs": [],
   "source": [
    "# Exercise 7\n",
    "\n",
    "reload(block)\n",
    "run(block.BlockTest('test_serialize'))"
   ]
  },
  {
   "cell_type": "markdown",
   "id": "cadef762",
   "metadata": {},
   "source": [
    "### Exercise 8\n",
    "\n",
    "\n",
    "\n",
    "\n",
    "#### Make [this test](/edit/session6/block.py) pass: `block.py:BlockTest:test_hash`"
   ]
  },
  {
   "cell_type": "code",
   "execution_count": null,
   "id": "3bb9500d",
   "metadata": {},
   "outputs": [],
   "source": [
    "# Exercise 8\n",
    "\n",
    "reload(block)\n",
    "run(block.BlockTest('test_hash'))"
   ]
  },
  {
   "cell_type": "code",
   "execution_count": null,
   "id": "5a679870",
   "metadata": {},
   "outputs": [],
   "source": [
    "# Version Signaling Example\n",
    "from block import Block\n",
    "from io import BytesIO\n",
    "hex_block = '020000208ec39428b17323fa0ddec8e887b4a7c53b8c0a0a220cfd0000000000000000005b0750fce0a889502d40508d39576821155e9c9e3f5c3157f961db38fd8b25be1e77a759e93c0118a4ffd71d'\n",
    "bin_block = bytes.fromhex(hex_block)\n",
    "stream = BytesIO(bin_block)\n",
    "b = Block.parse(stream)\n",
    "version = b.version\n",
    "print(f'BIP9: {version >> 29 == 0b001}')\n",
    "print(f'BIP112: {version >> 0 & 1 == 1}')\n",
    "print(f'BIP141: {version >> 1 & 1 == 1}')\n",
    "print(f'BIP341: {version >> 2 & 1 == 1}')\n",
    "print(f'BIP91: {version >> 4 & 1 == 1}')"
   ]
  },
  {
   "cell_type": "markdown",
   "id": "b970467d",
   "metadata": {},
   "source": [
    "### Exercise 9\n",
    "\n",
    "\n",
    "\n",
    "\n",
    "#### Make [this test](/edit/session6/block.py) pass: `block.py:BlockTest:test_bip9`"
   ]
  },
  {
   "cell_type": "code",
   "execution_count": null,
   "id": "ebb9a829",
   "metadata": {},
   "outputs": [],
   "source": [
    "# Exercise 9\n",
    "\n",
    "reload(block)\n",
    "run(block.BlockTest('test_bip9'))"
   ]
  },
  {
   "cell_type": "markdown",
   "id": "27e5c14d",
   "metadata": {},
   "source": [
    "### Exercise 10\n",
    "\n",
    "\n",
    "\n",
    "\n",
    "#### Make [this test](/edit/session6/block.py) pass: `block.py:BlockTest:test_bip112`"
   ]
  },
  {
   "cell_type": "code",
   "execution_count": null,
   "id": "21f7d35f",
   "metadata": {},
   "outputs": [],
   "source": [
    "# Exercise 10\n",
    "\n",
    "reload(block)\n",
    "run(block.BlockTest('test_bip112'))"
   ]
  },
  {
   "cell_type": "markdown",
   "id": "79358b83",
   "metadata": {},
   "source": [
    "### Exercise 11\n",
    "\n",
    "\n",
    "\n",
    "\n",
    "#### Make [this test](/edit/session6/block.py) pass: `block.py:BlockTest:test_bip141`"
   ]
  },
  {
   "cell_type": "code",
   "execution_count": null,
   "id": "a217cc9f",
   "metadata": {},
   "outputs": [],
   "source": [
    "# Exercise 11\n",
    "\n",
    "reload(block)\n",
    "run(block.BlockTest('test_bip141'))"
   ]
  },
  {
   "cell_type": "markdown",
   "id": "b22df955",
   "metadata": {},
   "source": [
    "### Exercise 12\n",
    "\n",
    "\n",
    "\n",
    "\n",
    "#### Make [this test](/edit/session6/block.py) pass: `block.py:BlockTest:test_bip341`"
   ]
  },
  {
   "cell_type": "code",
   "execution_count": null,
   "id": "ae86db16",
   "metadata": {},
   "outputs": [],
   "source": [
    "# Exercise 12\n",
    "\n",
    "reload(block)\n",
    "run(block.BlockTest('test_bip341'))"
   ]
  },
  {
   "cell_type": "markdown",
   "id": "43862774",
   "metadata": {},
   "source": [
    "### Exercise 13\n",
    "\n",
    "\n",
    "\n",
    "\n",
    "#### Make [this test](/edit/session6/block.py) pass: `block.py:BlockTest:test_bip91`"
   ]
  },
  {
   "cell_type": "code",
   "execution_count": null,
   "id": "aa4e31c6",
   "metadata": {},
   "outputs": [],
   "source": [
    "# Exercise 13\n",
    "\n",
    "reload(block)\n",
    "run(block.BlockTest('test_bip91'))"
   ]
  },
  {
   "cell_type": "code",
   "execution_count": null,
   "id": "4e61245a",
   "metadata": {},
   "outputs": [],
   "source": [
    "# Calculating Target from Bits Example\n",
    "from helper import little_endian_to_int\n",
    "bits = bytes.fromhex('e93c0118')\n",
    "exponent = bits[-1]\n",
    "coefficient = little_endian_to_int(bits[:-1])\n",
    "target = coefficient*256**(exponent-3)\n",
    "print(f'{target:x}'.zfill(64))"
   ]
  },
  {
   "cell_type": "code",
   "execution_count": null,
   "id": "991e86f2",
   "metadata": {},
   "outputs": [],
   "source": [
    "# Calculating Difficulty from Target Example\n",
    "from helper import little_endian_to_int\n",
    "bits = bytes.fromhex('e93c0118')\n",
    "exponent = bits[-1]\n",
    "coefficient = little_endian_to_int(bits[:-1])\n",
    "target = coefficient * 256**(exponent - 3)\n",
    "min_target = 0xffff * 256**(0x1d - 3)\n",
    "difficulty = min_target // target\n",
    "print(difficulty)"
   ]
  },
  {
   "cell_type": "markdown",
   "id": "793f2b14",
   "metadata": {},
   "source": [
    "### Exercise 14\n",
    "Calculate the target and difficulty for these bits:\n",
    "```\n",
    "f2881718\n",
    "```\n",
    "\n",
    "Bits to target formula is\n",
    "\n",
    "\\\\(\\texttt{coefficient}\\cdot256^{(\\texttt{exponent}-3)}\\\\)\n",
    "\n",
    "where coefficient is the first three bytes in little endian and exponent is the last byte.\n",
    "\n",
    "Target to Difficulty formula is\n",
    "\n",
    "\\\\(\\texttt{difficulty} = \\texttt{min} / \\texttt{target}\\\\)\n",
    "\n",
    "where \\\\(\\texttt{min} = \\texttt{0xffff}\\cdot256^{(\\texttt{0x1d}-3)}\\\\)\n"
   ]
  },
  {
   "cell_type": "code",
   "execution_count": null,
   "id": "851032f3",
   "metadata": {},
   "outputs": [],
   "source": [
    "# Exercise 14\n",
    "\n",
    "from helper import little_endian_to_int\n",
    "hex_bits = 'f2881718'\n",
    "# bytes.fromhex to get the bits\n",
    "\n",
    "# last byte is exponent\n",
    "\n",
    "# first three bytes are the coefficient in little endian\n",
    "\n",
    "# plug into formula coefficient * 256^(exponent-3) to get the target\n",
    "\n",
    "# print target using print(f'{target:x}'.zfill(64))\n",
    "\n",
    "# difficulty formula is 0xffff * 256**(0x1d - 3) / target\n",
    "\n",
    "# print the difficulty\n"
   ]
  },
  {
   "cell_type": "markdown",
   "id": "94424c01",
   "metadata": {},
   "source": [
    "### Exercise 15\n",
    "\n",
    "\n",
    "\n",
    "\n",
    "#### Make [this test](/edit/session6/block.py) pass: `block.py:BlockTest:test_target`"
   ]
  },
  {
   "cell_type": "code",
   "execution_count": null,
   "id": "3dd05a9b",
   "metadata": {},
   "outputs": [],
   "source": [
    "# Exercise 15\n",
    "\n",
    "reload(block)\n",
    "run(block.BlockTest('test_target'))"
   ]
  },
  {
   "cell_type": "markdown",
   "id": "0124290b",
   "metadata": {},
   "source": [
    "### Exercise 16\n",
    "Validate the proof-of-work for this block\n",
    "```\n",
    "04000000fbedbbf0cfdaf278c094f187f2eb987c86a199da22bbb20400000000000000007b7697b29129648fa08b4bcd13c9d5e60abb973a1efac9c8d573c71c807c56c3d6213557faa80518c3737ec1\n",
    "```\n",
    "\n",
    "Check that the proof-of-work (hash256 interpreted as a little-endian number) is lower than the target.\n"
   ]
  },
  {
   "cell_type": "code",
   "execution_count": null,
   "id": "cc50a4fe",
   "metadata": {},
   "outputs": [],
   "source": [
    "# Exercise 16\n",
    "\n",
    "from io import BytesIO\n",
    "from block import Block\n",
    "hex_block = '04000000fbedbbf0cfdaf278c094f187f2eb987c86a199da22bbb20400000000000000007b7697b29129648fa08b4bcd13c9d5e60abb973a1efac9c8d573c71c807c56c3d6213557faa80518c3737ec1'\n",
    "# bytes.fromhex to get the binary block\n",
    "\n",
    "# make a stream using BytesIO\n",
    "\n",
    "# parse the Block\n",
    "\n",
    "# hash256 the serialization\n",
    "\n",
    "# interpret the result as a number in little endian\n",
    "\n",
    "# get the target\n",
    "\n",
    "# check proof of work < target\n"
   ]
  },
  {
   "cell_type": "markdown",
   "id": "f2468ed0",
   "metadata": {},
   "source": [
    "### Exercise 17\n",
    "\n",
    "\n",
    "\n",
    "\n",
    "#### Make [this test](/edit/session6/block.py) pass: `block.py:BlockTest:test_check_pow`"
   ]
  },
  {
   "cell_type": "code",
   "execution_count": null,
   "id": "38557d88",
   "metadata": {},
   "outputs": [],
   "source": [
    "# Exercise 17\n",
    "\n",
    "reload(block)\n",
    "run(block.BlockTest('test_check_pow'))"
   ]
  }
 ],
 "metadata": {
  "kernelspec": {
   "display_name": "Python 3",
   "language": "python",
   "name": "python3"
  },
  "language_info": {
   "codemirror_mode": {
    "name": "ipython",
    "version": 3
   },
   "file_extension": ".py",
   "mimetype": "text/x-python",
   "name": "python",
   "nbconvert_exporter": "python",
   "pygments_lexer": "ipython3",
   "version": "3.8.5"
  }
 },
 "nbformat": 4,
 "nbformat_minor": 5
}
