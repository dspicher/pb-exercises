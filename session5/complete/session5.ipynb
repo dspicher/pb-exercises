{
 "cells": [
  {
   "cell_type": "code",
   "execution_count": 1,
   "metadata": {},
   "outputs": [],
   "source": [
    "############## PLEASE RUN THIS CELL FIRST! ###################\n",
    "\n",
    "# import everything and define a test runner function\n",
    "from importlib import reload\n",
    "from helper import run\n",
    "import helper, op, script, tx"
   ]
  },
  {
   "cell_type": "markdown",
   "metadata": {},
   "source": [
    "### Exercise 1\n",
    "\n",
    "\n",
    "\n",
    "\n",
    "#### Make [this test](/edit/session5/tx.py) pass: `tx.py:TxTest:test_verify_p2pkh`"
   ]
  },
  {
   "cell_type": "code",
   "execution_count": 2,
   "metadata": {},
   "outputs": [
    {
     "name": "stderr",
     "output_type": "stream",
     "text": [
      ".\n",
      "----------------------------------------------------------------------\n",
      "Ran 1 test in 0.211s\n",
      "\n",
      "OK\n"
     ]
    }
   ],
   "source": [
    "# Exercise 1\n",
    "\n",
    "reload(tx)\n",
    "run(tx.TxTest('test_verify_p2pkh'))"
   ]
  },
  {
   "cell_type": "code",
   "execution_count": 3,
   "metadata": {},
   "outputs": [
    {
     "name": "stdout",
     "output_type": "stream",
     "text": [
      "0100000001494127dba8aea354ebae1de80c2d7a2a223eed27666a85bce371de3790f6e28b040000006b483045022100fa3032607b50e8cb05bedc9d43f986f19dedc22e61320b9765061c5cd9c66946022072d514ef637988515bfa59a660596206de68f0ed4090d0a398e70f4d81370dfb012103935581e52c354cd2f484fe8ed83af7a3097005b2f9c60bff71d35bd795f54b67ffffffff0280d54302000000001976a914d52ad7ca9b3d096a38e752c2018e6fbc40cdf26f88ac80969800000000001976a914507b27411ccf7f16f10297de6cef3f291623eddf88ac00000000\n"
     ]
    }
   ],
   "source": [
    "# Transaction Construction Example\n",
    "from ecc import PrivateKey\n",
    "from helper import decode_base58, SIGHASH_ALL\n",
    "from script import p2pkh_script, Script\n",
    "from tx import Tx, TxIn, TxOut\n",
    "# Step 1\n",
    "tx_ins = []\n",
    "prev_tx = bytes.fromhex('8be2f69037de71e3bc856a6627ed3e222a7a2d0ce81daeeb54a3aea8db274149')\n",
    "prev_index = 4\n",
    "tx_ins.append(TxIn(prev_tx, prev_index))\n",
    "# Step 2\n",
    "tx_outs = []\n",
    "h160 = decode_base58('mzx5YhAH9kNHtcN481u6WkjeHjYtVeKVh2')\n",
    "tx_outs.append(TxOut(\n",
    "    amount=int(0.38*100000000),\n",
    "    script_pubkey=p2pkh_script(h160),\n",
    "))\n",
    "h160 = decode_base58('mnrVtF8DWjMu839VW3rBfgYaAfKk8983Xf')\n",
    "tx_outs.append(TxOut(\n",
    "    amount=int(0.1*100000000),\n",
    "    script_pubkey=p2pkh_script(h160),\n",
    "))\n",
    "tx_obj = Tx(1, tx_ins, tx_outs, 0, testnet=True)\n",
    "# Step 3\n",
    "z = tx_obj.sig_hash(0)\n",
    "pk = PrivateKey(secret=8675309)\n",
    "der = pk.sign(z).der()\n",
    "sig = der + SIGHASH_ALL.to_bytes(1, 'big')\n",
    "sec = pk.point.sec()\n",
    "tx_obj.tx_ins[0].script_sig = Script([sig, sec])\n",
    "print(tx_obj.serialize().hex())"
   ]
  },
  {
   "cell_type": "markdown",
   "metadata": {},
   "source": [
    "### Exercise 2\n",
    "\n",
    "\n",
    "\n",
    "\n",
    "#### Make [this test](/edit/session5/tx.py) pass: `tx.py:TxTest:test_sign_input`"
   ]
  },
  {
   "cell_type": "code",
   "execution_count": 4,
   "metadata": {},
   "outputs": [
    {
     "name": "stderr",
     "output_type": "stream",
     "text": [
      ".\n",
      "----------------------------------------------------------------------\n",
      "Ran 1 test in 0.187s\n",
      "\n",
      "OK\n"
     ]
    }
   ],
   "source": [
    "# Exercise 2\n",
    "\n",
    "reload(tx)\n",
    "run(tx.TxTest('test_sign_input'))"
   ]
  },
  {
   "cell_type": "markdown",
   "metadata": {},
   "source": [
    "### Exercise 3\n",
    "Send 0.04 TBTC to this address\n",
    "\n",
    "`mqYz6JpuKukHzPg94y4XNDdPCEJrNkLQcv`\n",
    "\n",
    "#### Go here to send your transaction: https://live.blockcypher.com/btc-testnet/pushtx/\n"
   ]
  },
  {
   "cell_type": "code",
   "execution_count": 5,
   "metadata": {},
   "outputs": [
    {
     "name": "stdout",
     "output_type": "stream",
     "text": [
      "0100000001adf63c0ff706522946f4b350bfc62fdf880cd4b80366e9aa8faea23a9d4b020c000000006b48304502210082b7c32b331cdb56d959d37158dd2f6c31e8098d0daa25b3fecc5a5c0b253ff5022047b7e50d72524da02daa0f512436e0daea779e907924c22672c4abd16560d093012103dc585d46cfca73f3a75ba1ef0c5756a21c1924587480700c6eb64e3f75d22083ffffffff0200093d00000000001976a9146e13971913b9aa89659a9f53d327baa8826f2d7588ac30ca5a00000000001976a914850af0029eb376691c3eef244c25eceb4e50c50388ac00000000\n"
     ]
    }
   ],
   "source": [
    "# Exercise 3\n",
    "\n",
    "from tx import Tx, TxIn, TxOut\n",
    "from helper import decode_base58, hash256, little_endian_to_int\n",
    "from script import p2pkh_script\n",
    "prev_tx = bytes.fromhex('0c024b9d3aa2ae8faae96603b8d40c88df2fc6bf50b3f446295206f70f3cf6ad')\n",
    "prev_index = 0\n",
    "target_address = 'mqYz6JpuKukHzPg94y4XNDdPCEJrNkLQcv'\n",
    "target_amount = 0.04\n",
    "fee = 50000\n",
    "passphrase = b'Jimmy Song'\n",
    "secret = little_endian_to_int(hash256(passphrase))\n",
    "private_key = PrivateKey(secret=secret)\n",
    "change_address = private_key.point.address(testnet=True)\n",
    "# initialize inputs\n",
    "tx_ins = []\n",
    "# create a new tx input with prev_tx, prev_index\n",
    "tx_ins.append(TxIn(prev_tx, prev_index))\n",
    "# initialize outputs\n",
    "tx_outs = []\n",
    "# decode the hash160 from the target address\n",
    "h160 = decode_base58(target_address)\n",
    "# convert hash160 to p2pkh script\n",
    "script_pubkey = p2pkh_script(h160)\n",
    "# convert target amount to satoshis (multiply by 100 million)\n",
    "target_satoshis = int(target_amount*100000000)\n",
    "# create a new tx output for target with amount and script_pubkey\n",
    "tx_outs.append(TxOut(target_satoshis, script_pubkey))\n",
    "# decode the hash160 from the change address\n",
    "h160 = decode_base58(change_address)\n",
    "# convert hash160 to p2pkh script\n",
    "script_pubkey = p2pkh_script(h160)\n",
    "# get the value for the transaction input (remember testnet=True)\n",
    "prev_amount = tx_ins[0].value(testnet=True)\n",
    "# calculate change_satoshis based on previous amount, target_satoshis & fee\n",
    "change_satoshis = prev_amount - target_satoshis - fee\n",
    "# create a new tx output for target with amount and script_pubkey\n",
    "tx_outs.append(TxOut(change_satoshis, script_pubkey))\n",
    "# create the transaction (name it tx_obj to not conflict and set testnet=True)\n",
    "tx_obj = Tx(1, tx_ins, tx_outs, 0, testnet=True)\n",
    "# now sign the 0th input with the private_key using sign_input\n",
    "tx_obj.sign_input(0, private_key)\n",
    "# SANITY CHECK: change address corresponds to private key\n",
    "if private_key.point.address(testnet=True) != change_address:\n",
    "    raise RuntimeError('Private Key does not correspond to Change Address, check priv_key and change_address')\n",
    "# SANITY CHECK: output's script_pubkey is the same one as your address\n",
    "if tx_ins[0].script_pubkey(testnet=True).commands[2] != decode_base58(change_address):\n",
    "    raise RuntimeError('Output is not something you can spend with this private key. Check that the prev_tx and prev_index are correct')\n",
    "# SANITY CHECK: fee is reasonable\n",
    "if tx_obj.fee() > 0.05*100000000 or tx_obj.fee() <= 0:\n",
    "    raise RuntimeError('Check that the change amount is reasonable. Fee is {}'.format(tx_obj.fee()))\n",
    "# serialize and hex()\n",
    "print(tx_obj.serialize().hex())"
   ]
  },
  {
   "cell_type": "markdown",
   "metadata": {},
   "source": [
    "### Exercise 4\n",
    "#### Bonus Question. Only attempt if you've finished Exercise 3 and have time to try it.\n",
    "\n",
    "Get some testnet coins and spend both outputs (one from your change address and one from the testnet faucet) to\n",
    "\n",
    "`mqYz6JpuKukHzPg94y4XNDdPCEJrNkLQcv`\n",
    "\n",
    "#### You can get some free testnet coins at: https://testnet.coinfaucet.eu/en/\n"
   ]
  },
  {
   "cell_type": "code",
   "execution_count": 6,
   "metadata": {},
   "outputs": [
    {
     "name": "stdout",
     "output_type": "stream",
     "text": [
      "01000000027e5e13043b4504531b475d8decda4ffeb9f67b70330d8e47129a96277e538608010000006a47304402202d964dc5cb71aac6f6a22f1841d901da52930290d813b2ef534541d424556e3b02203906bb187f88f6f2c3eacf411fc097e70dab461d00c4c06e641ee747c3a9b22a012103dc585d46cfca73f3a75ba1ef0c5756a21c1924587480700c6eb64e3f75d22083ffffffffc586682732bdce1baa4ececf844a6d06f62437bf8eebc971acccdf19c1759dda010000006a4730440220211aad339dd9623dcaf36fc35bce892ee102a9bbc124e975782eebde9c06c51b022006ecb13fefd1382e36b5afc0e21fb19aa945ea97b60111bff355cbe037dd5b4d012103dc585d46cfca73f3a75ba1ef0c5756a21c1924587480700c6eb64e3f75d22083ffffffff0110d1b400000000001976a9146e13971913b9aa89659a9f53d327baa8826f2d7588ac00000000\n"
     ]
    }
   ],
   "source": [
    "# Exercise 4\n",
    "\n",
    "# Bonus\n",
    "from tx import Tx, TxIn, TxOut\n",
    "from helper import decode_base58, hash256, little_endian_to_int\n",
    "from script import p2pkh_script\n",
    "prev_tx_1 = bytes.fromhex('0886537e27969a12478e0d33707bf6b9fe4fdaec8d5d471b5304453b04135e7e')\n",
    "prev_index_1 = 1\n",
    "prev_tx_2 = bytes.fromhex('da9d75c119dfccac71c9eb8ebf3724f6066d4a84cfce4eaa1bcebd32276886c5')\n",
    "prev_index_2 = 1\n",
    "target_address = 'mqYz6JpuKukHzPg94y4XNDdPCEJrNkLQcv'\n",
    "fee = 50000\n",
    "passphrase = b'Jimmy Song'\n",
    "secret = little_endian_to_int(hash256(passphrase))\n",
    "private_key = PrivateKey(secret=secret)\n",
    "# initialize inputs\n",
    "tx_ins = []\n",
    "# create the first tx input with prev_tx_1, prev_index_1\n",
    "tx_ins.append(TxIn(prev_tx_1, prev_index_1))\n",
    "# create the second tx input with prev_tx_2, prev_index_2\n",
    "tx_ins.append(TxIn(prev_tx_2, prev_index_2))\n",
    "# initialize outputs\n",
    "tx_outs = []\n",
    "# decode the hash160 from the target address\n",
    "h160 = decode_base58(target_address)\n",
    "# convert hash160 to p2pkh script\n",
    "script_pubkey = p2pkh_script(h160)\n",
    "# calculate target amount by adding the input values and subtracting the fee\n",
    "target_satoshis = tx_ins[0].value(True) + tx_ins[1].value(True) - fee\n",
    "# create a single tx output for target with amount and script_pubkey\n",
    "tx_outs.append(TxOut(target_satoshis, script_pubkey))\n",
    "# create the transaction\n",
    "tx_obj = Tx(1, tx_ins, tx_outs, 0, testnet=True)\n",
    "# sign both inputs with the private key using sign_input\n",
    "tx_obj.sign_input(0, private_key)\n",
    "tx_obj.sign_input(1, private_key)\n",
    "# SANITY CHECK: output's script_pubkey is the same one as your address\n",
    "if tx_ins[0].script_pubkey(testnet=True).commands[2] != decode_base58(private_key.point.address(testnet=True)):\n",
    "    raise RuntimeError('Output is not something you can spend with this private key. Check that the prev_tx and prev_index are correct')\n",
    "# SANITY CHECK: fee is reasonable\n",
    "if tx_obj.fee() > 0.05*100000000 or tx_obj.fee() <= 0:\n",
    "    raise RuntimeError('Check that the change amount is reasonable. Fee is {}'.format(tx_obj.fee()))\n",
    "# serialize and hex()\n",
    "print(tx_obj.serialize().hex())"
   ]
  },
  {
   "cell_type": "code",
   "execution_count": 7,
   "metadata": {},
   "outputs": [],
   "source": [
    "# op_checkmultisig\n",
    "def op_checkmultisig(stack, z):\n",
    "    if len(stack) < 1:\n",
    "        return False\n",
    "    n = decode_num(stack.pop())\n",
    "    if len(stack) < n + 1:\n",
    "        return False\n",
    "    sec_pubkeys = []\n",
    "    for _ in range(n):\n",
    "        sec_pubkeys.append(stack.pop())\n",
    "    m = decode_num(stack.pop())\n",
    "    if len(stack) < m + 1:\n",
    "        return False\n",
    "    der_signatures = []\n",
    "    for _ in range(m):\n",
    "        # signature is assumed to be using SIGHASH_ALL\n",
    "        der_signatures.append(stack.pop()[:-1])\n",
    "    # OP_CHECKMULTISIG bug\n",
    "    stack.pop()\n",
    "    try:\n",
    "        raise NotImplementedError\n",
    "    except (ValueError, SyntaxError):\n",
    "        return False\n",
    "    return True"
   ]
  },
  {
   "cell_type": "markdown",
   "metadata": {},
   "source": [
    "### Exercise 5\n",
    "\n",
    "\n",
    "\n",
    "\n",
    "#### Make [this test](/edit/session5/op.py) pass: `op.py:OpTest:test_op_checkmultisig`"
   ]
  },
  {
   "cell_type": "code",
   "execution_count": 8,
   "metadata": {},
   "outputs": [
    {
     "name": "stderr",
     "output_type": "stream",
     "text": [
      ".\n",
      "----------------------------------------------------------------------\n",
      "Ran 1 test in 0.211s\n",
      "\n",
      "OK\n"
     ]
    }
   ],
   "source": [
    "# Exercise 5\n",
    "\n",
    "reload(op)\n",
    "run(op.OpTest('test_op_checkmultisig'))"
   ]
  },
  {
   "cell_type": "markdown",
   "metadata": {},
   "source": [
    "### Exercise 6\n",
    "Find the hash160 of the RedeemScript\n",
    "```\n",
    "5221022626e955ea6ea6d98850c994f9107b036b1334f18ca8830bfff1295d21cfdb702103b287eaf122eea69030a0e9feed096bed8045c8b98bec453e1ffac7fbdbd4bb7152ae\n",
    "```\n"
   ]
  },
  {
   "cell_type": "code",
   "execution_count": 9,
   "metadata": {},
   "outputs": [
    {
     "name": "stdout",
     "output_type": "stream",
     "text": [
      "74d691da1574e6b3c192ecfb52cc8984ee7b6c56\n"
     ]
    }
   ],
   "source": [
    "# Exercise 6\n",
    "\n",
    "from helper import hash160\n",
    "hex_redeem_script = '5221022626e955ea6ea6d98850c994f9107b036b1334f18ca8830bfff1295d21cfdb702103b287eaf122eea69030a0e9feed096bed8045c8b98bec453e1ffac7fbdbd4bb7152ae'\n",
    "# bytes.fromhex script\n",
    "redeem_script = bytes.fromhex(hex_redeem_script)\n",
    "# hash160 result\n",
    "h160 = hash160(redeem_script)\n",
    "# hex() to display\n",
    "print(h160.hex())"
   ]
  },
  {
   "cell_type": "code",
   "execution_count": 10,
   "metadata": {},
   "outputs": [
    {
     "name": "stdout",
     "output_type": "stream",
     "text": [
      "3CLoMMyuoDQTPRD3XYZtCvgvkadrAdvdXh\n"
     ]
    }
   ],
   "source": [
    "# P2SH address construction example\n",
    "from helper import encode_base58_checksum\n",
    "print(encode_base58_checksum(b'\\x05'+bytes.fromhex('74d691da1574e6b3c192ecfb52cc8984ee7b6c56')))"
   ]
  },
  {
   "cell_type": "markdown",
   "metadata": {},
   "source": [
    "### Exercise 7\n",
    "\n",
    "\n",
    "\n",
    "\n",
    "#### Make [this test](/edit/session5/helper.py) pass: `helper.py:HelperTest:test_p2pkh_address`"
   ]
  },
  {
   "cell_type": "code",
   "execution_count": 11,
   "metadata": {},
   "outputs": [
    {
     "name": "stderr",
     "output_type": "stream",
     "text": [
      ".\n",
      "----------------------------------------------------------------------\n",
      "Ran 1 test in 0.001s\n",
      "\n",
      "OK\n"
     ]
    }
   ],
   "source": [
    "# Exercise 7\n",
    "\n",
    "reload(helper)\n",
    "run(helper.HelperTest('test_p2pkh_address'))"
   ]
  },
  {
   "cell_type": "markdown",
   "metadata": {},
   "source": [
    "### Exercise 8\n",
    "\n",
    "\n",
    "\n",
    "\n",
    "#### Make [this test](/edit/session5/helper.py) pass: `helper.py:HelperTest:test_p2sh_address`"
   ]
  },
  {
   "cell_type": "code",
   "execution_count": 12,
   "metadata": {},
   "outputs": [
    {
     "name": "stderr",
     "output_type": "stream",
     "text": [
      ".\n",
      "----------------------------------------------------------------------\n",
      "Ran 1 test in 0.001s\n",
      "\n",
      "OK\n"
     ]
    }
   ],
   "source": [
    "# Exercise 8\n",
    "\n",
    "reload(helper)\n",
    "run(helper.HelperTest('test_p2sh_address'))"
   ]
  },
  {
   "cell_type": "markdown",
   "metadata": {},
   "source": [
    "### Exercise 9\n",
    "\n",
    "\n",
    "\n",
    "\n",
    "#### Make [this test](/edit/session5/script.py) pass: `script.py:ScriptTest:test_address`"
   ]
  },
  {
   "cell_type": "code",
   "execution_count": 13,
   "metadata": {},
   "outputs": [
    {
     "name": "stderr",
     "output_type": "stream",
     "text": [
      ".\n",
      "----------------------------------------------------------------------\n",
      "Ran 1 test in 0.001s\n",
      "\n",
      "OK\n"
     ]
    }
   ],
   "source": [
    "# Exercise 9\n",
    "\n",
    "reload(script)\n",
    "run(script.ScriptTest('test_address'))"
   ]
  },
  {
   "cell_type": "code",
   "execution_count": 14,
   "metadata": {},
   "outputs": [
    {
     "name": "stdout",
     "output_type": "stream",
     "text": [
      "0xe71bfa115715d6fd33796948126f40a8cdd39f187e4afb03896795189fe1423c\n"
     ]
    }
   ],
   "source": [
    "# z for p2sh example\n",
    "from helper import hash256\n",
    "h256 = hash256(bytes.fromhex('0100000001868278ed6ddfb6c1ed3ad5f8181eb0c7a385aa0836f01d5e4789e6bd304d87221a000000475221022626e955ea6ea6d98850c994f9107b036b1334f18ca8830bfff1295d21cfdb702103b287eaf122eea69030a0e9feed096bed8045c8b98bec453e1ffac7fbdbd4bb7152aeffffffff04d3b11400000000001976a914904a49878c0adfc3aa05de7afad2cc15f483a56a88ac7f400900000000001976a914418327e3f3dda4cf5b9089325a4b95abdfa0334088ac722c0c00000000001976a914ba35042cfe9fc66fd35ac2224eebdafd1028ad2788acdc4ace020000000017a91474d691da1574e6b3c192ecfb52cc8984ee7b6c56870000000001000000'))\n",
    "z = int.from_bytes(h256, 'big')\n",
    "print(hex(z))"
   ]
  },
  {
   "cell_type": "code",
   "execution_count": 15,
   "metadata": {},
   "outputs": [
    {
     "name": "stdout",
     "output_type": "stream",
     "text": [
      "True\n"
     ]
    }
   ],
   "source": [
    "# p2sh verification example\n",
    "from ecc import S256Point, Signature\n",
    "from helper import hash256\n",
    "h256 = hash256(bytes.fromhex('0100000001868278ed6ddfb6c1ed3ad5f8181eb0c7a385aa0836f01d5e4789e6bd304d87221a000000475221022626e955ea6ea6d98850c994f9107b036b1334f18ca8830bfff1295d21cfdb702103b287eaf122eea69030a0e9feed096bed8045c8b98bec453e1ffac7fbdbd4bb7152aeffffffff04d3b11400000000001976a914904a49878c0adfc3aa05de7afad2cc15f483a56a88ac7f400900000000001976a914418327e3f3dda4cf5b9089325a4b95abdfa0334088ac722c0c00000000001976a914ba35042cfe9fc66fd35ac2224eebdafd1028ad2788acdc4ace020000000017a91474d691da1574e6b3c192ecfb52cc8984ee7b6c56870000000001000000'))\n",
    "z = int.from_bytes(h256, 'big')\n",
    "point = S256Point.parse(bytes.fromhex('022626e955ea6ea6d98850c994f9107b036b1334f18ca8830bfff1295d21cfdb70'))\n",
    "sig = Signature.parse(bytes.fromhex('3045022100dc92655fe37036f47756db8102e0d7d5e28b3beb83a8fef4f5dc0559bddfb94e02205a36d4e4e6c7fcd16658c50783e00c341609977aed3ad00937bf4ee942a89937'))\n",
    "print(point.verify(z, sig))"
   ]
  },
  {
   "cell_type": "markdown",
   "metadata": {},
   "source": [
    "### Exercise 10\n",
    "Validate the second signature of the first input\n",
    "\n",
    "```\n",
    "0100000001868278ed6ddfb6c1ed3ad5f8181eb0c7a385aa0836f01d5e4789e6bd304d87221a000000db00483045022100dc92655fe37036f47756db8102e0d7d5e28b3beb83a8fef4f5dc0559bddfb94e02205a36d4e4e6c7fcd16658c50783e00c341609977aed3ad00937bf4ee942a8993701483045022100da6bee3c93766232079a01639d07fa869598749729ae323eab8eef53577d611b02207bef15429dcadce2121ea07f233115c6f09034c0be68db99980b9a6c5e75402201475221022626e955ea6ea6d98850c994f9107b036b1334f18ca8830bfff1295d21cfdb702103b287eaf122eea69030a0e9feed096bed8045c8b98bec453e1ffac7fbdbd4bb7152aeffffffff04d3b11400000000001976a914904a49878c0adfc3aa05de7afad2cc15f483a56a88ac7f400900000000001976a914418327e3f3dda4cf5b9089325a4b95abdfa0334088ac722c0c00000000001976a914ba35042cfe9fc66fd35ac2224eebdafd1028ad2788acdc4ace020000000017a91474d691da1574e6b3c192ecfb52cc8984ee7b6c568700000000\n",
    "```\n",
    "\n",
    "The sec pubkey of the second signature is:\n",
    "```\n",
    "03b287eaf122eea69030a0e9feed096bed8045c8b98bec453e1ffac7fbdbd4bb71\n",
    "```\n",
    "\n",
    "The der signature of the second signature is:\n",
    "```\n",
    "3045022100da6bee3c93766232079a01639d07fa869598749729ae323eab8eef53577d611b02207bef15429dcadce2121ea07f233115c6f09034c0be68db99980b9a6c5e75402201475221022\n",
    "```\n",
    "\n",
    "The redeemScript is:\n",
    "```\n",
    "475221022626e955ea6ea6d98850c994f9107b036b1334f18ca8830bfff1295d21cfdb702103b287eaf122eea69030a0e9feed096bed8045c8b98bec453e1ffac7fbdbd4bb7152ae\n",
    "```\n"
   ]
  },
  {
   "cell_type": "code",
   "execution_count": 16,
   "metadata": {},
   "outputs": [
    {
     "name": "stdout",
     "output_type": "stream",
     "text": [
      "True\n"
     ]
    }
   ],
   "source": [
    "# Exercise 10\n",
    "\n",
    "from io import BytesIO\n",
    "from ecc import S256Point, Signature\n",
    "from helper import int_to_little_endian, SIGHASH_ALL\n",
    "from script import Script\n",
    "from tx import Tx\n",
    "hex_sec = '03b287eaf122eea69030a0e9feed096bed8045c8b98bec453e1ffac7fbdbd4bb71'\n",
    "hex_der = '3045022100da6bee3c93766232079a01639d07fa869598749729ae323eab8eef53577d611b02207bef15429dcadce2121ea07f233115c6f09034c0be68db99980b9a6c5e754022'\n",
    "hex_redeem_script = '475221022626e955ea6ea6d98850c994f9107b036b1334f18ca8830bfff1295d21cfdb702103b287eaf122eea69030a0e9feed096bed8045c8b98bec453e1ffac7fbdbd4bb7152ae'\n",
    "sec = bytes.fromhex(hex_sec)\n",
    "der = bytes.fromhex(hex_der)\n",
    "redeem_script_stream = BytesIO(bytes.fromhex(hex_redeem_script))\n",
    "redeem_script = Script.parse(redeem_script_stream)\n",
    "hex_tx = '0100000001868278ed6ddfb6c1ed3ad5f8181eb0c7a385aa0836f01d5e4789e6bd304d87221a000000db00483045022100dc92655fe37036f47756db8102e0d7d5e28b3beb83a8fef4f5dc0559bddfb94e02205a36d4e4e6c7fcd16658c50783e00c341609977aed3ad00937bf4ee942a8993701483045022100da6bee3c93766232079a01639d07fa869598749729ae323eab8eef53577d611b02207bef15429dcadce2121ea07f233115c6f09034c0be68db99980b9a6c5e75402201475221022626e955ea6ea6d98850c994f9107b036b1334f18ca8830bfff1295d21cfdb702103b287eaf122eea69030a0e9feed096bed8045c8b98bec453e1ffac7fbdbd4bb7152aeffffffff04d3b11400000000001976a914904a49878c0adfc3aa05de7afad2cc15f483a56a88ac7f400900000000001976a914418327e3f3dda4cf5b9089325a4b95abdfa0334088ac722c0c00000000001976a914ba35042cfe9fc66fd35ac2224eebdafd1028ad2788acdc4ace020000000017a91474d691da1574e6b3c192ecfb52cc8984ee7b6c568700000000'\n",
    "stream = BytesIO(bytes.fromhex(hex_tx))\n",
    "# parse the S256Point and Signature\n",
    "point = S256Point.parse(sec)\n",
    "sig = Signature.parse(der)\n",
    "# parse the Tx\n",
    "t = Tx.parse(stream)\n",
    "# change the first input's ScriptSig to RedeemScript\n",
    "t.tx_ins[0].script_sig = redeem_script\n",
    "# get the serialization\n",
    "ser = t.serialize()\n",
    "# add the sighash (4 bytes, little-endian of SIGHASH_ALL)\n",
    "ser += int_to_little_endian(SIGHASH_ALL, 4)\n",
    "# hash256 the result\n",
    "h256 = hash256(ser)\n",
    "# your z is the hash256 as a big-endian number: use int.from_bytes(x, 'big')\n",
    "z = int.from_bytes(h256, 'big')\n",
    "# now verify the signature using point.verify\n",
    "print(point.verify(z, sig))"
   ]
  }
 ],
 "metadata": {
  "kernelspec": {
   "display_name": "Python 3",
   "language": "python",
   "name": "python3"
  },
  "language_info": {
   "codemirror_mode": {
    "name": "ipython",
    "version": 3
   },
   "file_extension": ".py",
   "mimetype": "text/x-python",
   "name": "python",
   "nbconvert_exporter": "python",
   "pygments_lexer": "ipython3",
   "version": "3.6.5"
  }
 },
 "nbformat": 4,
 "nbformat_minor": 2
}
